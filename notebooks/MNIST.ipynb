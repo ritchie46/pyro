{
 "cells": [
  {
   "cell_type": "code",
   "execution_count": 1,
   "metadata": {},
   "outputs": [],
   "source": [
    "from torch import nn\n",
    "import torch.nn.functional as F\n",
    "import torch\n",
    "import numpy as np\n",
    "import matplotlib.pyplot as plt\n",
    "from torchvision import datasets, transforms\n",
    "import pyro.distributions as dist\n",
    "import pyro\n",
    "import pyro.optim\n",
    "from pyro.infer import SVI, Trace_ELBO\n",
    "torch.cuda.is_available()\n",
    "from pyro.contrib import autoguide\n",
    "import seaborn as sns"
   ]
  },
  {
   "cell_type": "markdown",
   "metadata": {},
   "source": [
    "# Standard neural network"
   ]
  },
  {
   "cell_type": "code",
   "execution_count": 8,
   "metadata": {},
   "outputs": [],
   "source": [
    "class Model(nn.Module):\n",
    "    def __init__(self, input_size, hidden_size, output_size, device='cpu'):\n",
    "        super(Model, self).__init__()\n",
    "        self.out = nn.Sequential(\n",
    "            nn.Linear(input_size, hidden_size),\n",
    "            nn.ReLU(),\n",
    "            nn.Linear(hidden_size, output_size)\n",
    "        )\n",
    "    \n",
    "    def forward(self, x):\n",
    "        return self.out(x)\n",
    "    "
   ]
  },
  {
   "cell_type": "code",
   "execution_count": 3,
   "metadata": {},
   "outputs": [
    {
     "name": "stdout",
     "output_type": "stream",
     "text": [
      "Downloading http://yann.lecun.com/exdb/mnist/train-images-idx3-ubyte.gz\n",
      "Downloading http://yann.lecun.com/exdb/mnist/train-labels-idx1-ubyte.gz\n",
      "Downloading http://yann.lecun.com/exdb/mnist/t10k-images-idx3-ubyte.gz\n",
      "Downloading http://yann.lecun.com/exdb/mnist/t10k-labels-idx1-ubyte.gz\n",
      "Processing...\n",
      "Done!\n"
     ]
    }
   ],
   "source": [
    "class Reshape:\n",
    "    def __init__(self, new_size):\n",
    "        self.new_size = new_size\n",
    "    \n",
    "    def __call__(self, x):\n",
    "        return x.view(self.new_size)\n",
    "\n",
    "batch_size = 128\n",
    "transformation = transforms.Compose([\n",
    "                      transforms.ToTensor(),\n",
    "                      Reshape((-1, 28*28))\n",
    "                  ])\n",
    "\n",
    "train_loader = torch.utils.data.DataLoader(\n",
    "    datasets.MNIST('mnist-data/', train=True, download=True,\n",
    "                  transform=transformation),\n",
    "    batch_size=batch_size,\n",
    "    shuffle=True\n",
    ")\n",
    "\n",
    "\n",
    "test_loader = torch.utils.data.DataLoader(\n",
    "        datasets.MNIST('mnist-data/', train=False, \n",
    "                       transform=transformation\n",
    "                       ),\n",
    "        batch_size=batch_size, \n",
    "        shuffle=True)"
   ]
  },
  {
   "cell_type": "code",
   "execution_count": null,
   "metadata": {},
   "outputs": [],
   "source": [
    "criterion = nn.CrossEntropyLoss()\n",
    "def train(m, epochs=5, device='cpu'):\n",
    "    \n",
    "    optim = torch.optim.Adam(m.parameters(), lr=0.05)\n",
    "    for e in range(epochs):\n",
    "        c = 0\n",
    "        for x, y in train_loader:\n",
    "            c += 1\n",
    "            if device == 'cuda':\n",
    "                x = x.cuda()\n",
    "                y = y.cuda()\n",
    "            y_pred = m(x)\n",
    "            loss = criterion(y_pred, y)\n",
    "            optim.zero_grad()\n",
    "            loss.backward()\n",
    "            optim.step()\n",
    "            if (c + 1) % (50) == 0:\n",
    "                print(\"[iteration %04d] loss: %.4f  images seen: %d\" % (c + 1, loss.item(), c * batch_size))\n",
    "            \n",
    "        print('Epoch:', e + 1)\n",
    "            \n",
    "m = Model(28* 28, 1024, 10, 'cuda')\n",
    "train(m, device='cuda')"
   ]
  },
  {
   "cell_type": "markdown",
   "metadata": {},
   "source": [
    "# Bayesian Neural Network"
   ]
  },
  {
   "cell_type": "code",
   "execution_count": 9,
   "metadata": {},
   "outputs": [],
   "source": [
    "pyro.clear_param_store()\n",
    "\n",
    "def create_unit_priors(params):\n",
    "    return dist.Normal(loc=torch.zeros_like(params),\n",
    "                    scale=torch.ones_like(params))\n",
    "\n",
    "def create_guide_priors(name, params):\n",
    "    return dist.Normal(\n",
    "        loc=pyro.param(name + '_mu', torch.randn_like(params)),\n",
    "        scale=F.softplus(pyro.param(name + '_sigma', torch.randn_like(params)))\n",
    "    )\n",
    "\n",
    "\n",
    "class Model(nn.Module):\n",
    "    def __init__(self, input_size, hidden_size, output_size, device='cpu'):\n",
    "        super(Model, self).__init__()\n",
    "        self.output_size = output_size\n",
    "        self.input = nn.Linear(input_size, hidden_size)\n",
    "        self.out = nn.Linear(hidden_size, output_size)\n",
    "\n",
    "        if device == 'cuda':\n",
    "            self.cuda()\n",
    "    \n",
    "    def forward(self, x):\n",
    "        x = self.input(x)\n",
    "        x = self.out(F.relu(x))\n",
    "        return x.view(-1, self.output_size)\n",
    "    \n",
    "    # IMPORTANT LIFTED MODULE DOES NOT WORK WITH nn.Sequential. Need to name the priors perfectly\n",
    "    def model(self, x, y):\n",
    "        # priors\n",
    "        priors = {\n",
    "            \"input.weight\": create_unit_priors(self.input.weight),\n",
    "            \"input.bias\": create_unit_priors(self.input.bias),\n",
    "            \"out.weight\": create_unit_priors(self.out.weight),\n",
    "            \"out.bias\": create_unit_priors(self.out.bias),\n",
    "        }\n",
    "         # lift model parameters to random variables sampled from the priors\n",
    "        lifted_model = pyro.random_module('module', self, priors)\n",
    "\n",
    "        sampled_m = lifted_model().cuda()\n",
    "\n",
    "        lhat = sampled_m(x)\n",
    "        pyro.sample('obs', dist.Categorical(logits=lhat), obs=y)\n",
    "    \n",
    "    def guide(self, x, y):\n",
    "        priors = {\n",
    "            \"input.weight\": create_guide_priors('layer_1_w', self.input.weight),\n",
    "            \"input.bias\": create_guide_priors('layer_1_b', self.input.bias),\n",
    "            \"out.weight\": create_guide_priors('layer_out_w', self.out.weight).independent(1), # why independent?\n",
    "            \"out.bias\": create_guide_priors('layer_out_b', self.out.bias)\n",
    "        }\n",
    "        lifted_model = pyro.random_module('module', self, priors)\n",
    "\n",
    "        return lifted_model().cuda()\n",
    "\n",
    "\n",
    "    \n",
    "m = Model(28* 28, 1024, 10, 'cuda')"
   ]
  },
  {
   "cell_type": "code",
   "execution_count": 10,
   "metadata": {},
   "outputs": [],
   "source": [
    "optim = pyro.optim.Adam({\"lr\": 0.01})\n",
    "svi = SVI(m.model, m.guide, optim, loss=Trace_ELBO())"
   ]
  },
  {
   "cell_type": "code",
   "execution_count": 11,
   "metadata": {},
   "outputs": [
    {
     "name": "stdout",
     "output_type": "stream",
     "text": [
      "[iteration 0050] loss: 560400.0939  images seen: 6272\n",
      "[iteration 0100] loss: 404071.2365  images seen: 12672\n",
      "[iteration 0150] loss: 301482.9164  images seen: 19072\n",
      "[iteration 0200] loss: 237980.7431  images seen: 25472\n",
      "[iteration 0250] loss: 192912.4793  images seen: 31872\n",
      "[iteration 0300] loss: 154851.5447  images seen: 38272\n",
      "[iteration 0350] loss: 126995.5412  images seen: 44672\n",
      "[iteration 0400] loss: 109351.9992  images seen: 51072\n",
      "[iteration 0450] loss: 92512.8703  images seen: 57472\n",
      "Epoch: 1\n",
      "[iteration 0050] loss: 76524.1199  images seen: 6272\n",
      "[iteration 0100] loss: 65880.1059  images seen: 12672\n",
      "[iteration 0150] loss: 53568.6567  images seen: 19072\n",
      "[iteration 0200] loss: 48625.9135  images seen: 25472\n",
      "[iteration 0250] loss: 43800.5043  images seen: 31872\n",
      "[iteration 0300] loss: 38845.5785  images seen: 38272\n",
      "[iteration 0350] loss: 36009.5917  images seen: 44672\n",
      "[iteration 0400] loss: 32476.7465  images seen: 51072\n",
      "[iteration 0450] loss: 29945.0096  images seen: 57472\n",
      "Epoch: 2\n",
      "[iteration 0050] loss: 26215.3286  images seen: 6272\n",
      "[iteration 0100] loss: 23280.7484  images seen: 12672\n",
      "[iteration 0150] loss: 21545.3559  images seen: 19072\n",
      "[iteration 0200] loss: 20020.4596  images seen: 25472\n",
      "[iteration 0250] loss: 20173.7805  images seen: 31872\n",
      "[iteration 0300] loss: 19305.4506  images seen: 38272\n",
      "[iteration 0350] loss: 20122.4747  images seen: 44672\n",
      "[iteration 0400] loss: 17293.1853  images seen: 51072\n",
      "[iteration 0450] loss: 15329.0878  images seen: 57472\n",
      "Epoch: 3\n",
      "[iteration 0050] loss: 15842.0675  images seen: 6272\n",
      "[iteration 0100] loss: 16135.3562  images seen: 12672\n",
      "[iteration 0150] loss: 16667.6447  images seen: 19072\n",
      "[iteration 0200] loss: 13944.5299  images seen: 25472\n",
      "[iteration 0250] loss: 15499.5151  images seen: 31872\n",
      "[iteration 0300] loss: 13411.4276  images seen: 38272\n",
      "[iteration 0350] loss: 13788.9086  images seen: 44672\n",
      "[iteration 0400] loss: 14958.0174  images seen: 51072\n",
      "[iteration 0450] loss: 13430.6399  images seen: 57472\n",
      "Epoch: 4\n",
      "[iteration 0050] loss: 12240.3897  images seen: 6272\n",
      "[iteration 0100] loss: 13190.0349  images seen: 12672\n",
      "[iteration 0150] loss: 13332.2474  images seen: 19072\n",
      "[iteration 0200] loss: 12339.0322  images seen: 25472\n",
      "[iteration 0250] loss: 12439.9025  images seen: 31872\n",
      "[iteration 0300] loss: 12202.6325  images seen: 38272\n",
      "[iteration 0350] loss: 12780.4300  images seen: 44672\n",
      "[iteration 0400] loss: 12426.2525  images seen: 51072\n",
      "[iteration 0450] loss: 11297.1768  images seen: 57472\n",
      "Epoch: 5\n"
     ]
    }
   ],
   "source": [
    "epochs = 5\n",
    "loss = 0\n",
    "\n",
    "for e in range(epochs):\n",
    "    c = 0\n",
    "    for x, y in train_loader:\n",
    "        c += 1\n",
    "        x = x.cuda()\n",
    "        y = y.cuda()\n",
    "        loss = svi.step(x, y)\n",
    "        if (c + 1) % (50) == 0:\n",
    "            print(\"[iteration %04d] loss: %.4f  images seen: %d\" % (c + 1, loss, c * batch_size))\n",
    "    print('Epoch:', e + 1)"
   ]
  },
  {
   "cell_type": "code",
   "execution_count": 14,
   "metadata": {},
   "outputs": [
    {
     "data": {
      "image/png": "[encoded data removed]",
      "text/plain": [
       "<Figure size 432x288 with 1 Axes>"
      ]
     },
     "metadata": {
      "needs_background": "light"
     },
     "output_type": "display_data"
    },
    {
     "data": {
      "text/plain": [
       "<matplotlib.axes._subplots.AxesSubplot at 0x7f35612b0b00>"
      ]
     },
     "execution_count": 14,
     "metadata": {},
     "output_type": "execute_result"
    },
    {
     "data": {
      "image/png": "[encoded data removed]",
      "text/plain": [
       "<Figure size 432x288 with 1 Axes>"
      ]
     },
     "metadata": {
      "needs_background": "light"
     },
     "output_type": "display_data"
    }
   ],
   "source": [
    "for x, y in test_loader:\n",
    "    x = x.cuda()\n",
    "    y = y.cuda()\n",
    "    x = x[-1]\n",
    "\n",
    "    with torch.no_grad():\n",
    "        a = np.array([F.softmax(m.guide(1, 1)(x), -1).cpu().numpy() for _ in range(100)])[:, -1]\n",
    "        \n",
    "    break\n",
    "    \n",
    "plt.imshow(x.cpu().numpy().reshape((28, 28)))\n",
    "plt.show()\n",
    "sns.barplot(np.arange(10), a.sum(0))"
   ]
  }
 ],
 "metadata": {
  "kernelspec": {
   "display_name": "Python 3",
   "language": "python",
   "name": "python3"
  },
  "language_info": {
   "codemirror_mode": {
    "name": "ipython",
    "version": 3
   },
   "file_extension": ".py",
   "mimetype": "text/x-python",
   "name": "python",
   "nbconvert_exporter": "python",
   "pygments_lexer": "ipython3",
   "version": "3.7.3"
  }
 },
 "nbformat": 4,
 "nbformat_minor": 2
}
