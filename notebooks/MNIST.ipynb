{
 "cells": [
  {
   "cell_type": "code",
   "execution_count": 392,
   "metadata": {},
   "outputs": [],
   "source": [
    "from torch import nn\n",
    "import torch.nn.functional as F\n",
    "import torch\n",
    "import numpy as np\n",
    "import matplotlib.pyplot as plt\n",
    "from torchvision import datasets, transforms\n",
    "import pyro.distributions as dist\n",
    "import pyro\n",
    "import pyro.optim\n",
    "from pyro.infer import SVI, Trace_ELBO\n",
    "torch.cuda.is_available()\n",
    "from pyro.contrib import autoguide\n",
    "import seaborn as sns"
   ]
  },
  {
   "cell_type": "code",
   "execution_count": 494,
   "metadata": {},
   "outputs": [],
   "source": [
    "class Model(nn.Module):\n",
    "    def __init__(self, input_size, hidden_size, output_size, device='cpu'):\n",
    "        super(Model, self).__init__()\n",
    "        self.out = nn.Sequential(\n",
    "            nn.Linear(input_size, hidden_size, device=device),\n",
    "            nn.ReLU(),\n",
    "            nn.Linear(hidden_size, output_size, device=device)\n",
    "        )\n",
    "    \n",
    "    def forward(self, x):\n",
    "        return self.out(x)\n",
    "    "
   ]
  },
  {
   "cell_type": "code",
   "execution_count": 79,
   "metadata": {},
   "outputs": [],
   "source": [
    "class Reshape:\n",
    "    def __init__(self, new_size):\n",
    "        self.new_size = new_size\n",
    "    \n",
    "    def __call__(self, x):\n",
    "        return x.view(self.new_size)\n",
    "\n",
    "batch_size = 128\n",
    "transformation = transforms.Compose([\n",
    "                      transforms.ToTensor(),\n",
    "                      Reshape((-1, 28*28))\n",
    "                  ])\n",
    "\n",
    "train_loader = torch.utils.data.DataLoader(\n",
    "    datasets.MNIST('mnist-data/', train=True, download=True,\n",
    "                  transform=transformation),\n",
    "    batch_size=batch_size,\n",
    "    shuffle=True\n",
    ")\n",
    "\n",
    "\n",
    "test_loader = torch.utils.data.DataLoader(\n",
    "        datasets.MNIST('mnist-data/', train=False, \n",
    "                       transform=transformation\n",
    "                       ),\n",
    "        batch_size=batch_size, \n",
    "        shuffle=True)"
   ]
  },
  {
   "cell_type": "code",
   "execution_count": null,
   "metadata": {},
   "outputs": [],
   "source": [
    "criterion = nn.CrossEntropyLoss()\n",
    "def train(m, epochs=5, device='cpu'):\n",
    "    \n",
    "    optim = torch.optim.Adam(m.parameters(), lr=0.05)\n",
    "    for e in range(epochs):\n",
    "        c = 0\n",
    "        for x, y in train_loader:\n",
    "            c += 1\n",
    "            if device == 'cuda':\n",
    "                x = x.cuda()\n",
    "                y = y.cuda()\n",
    "            y_pred = m(x)\n",
    "            loss = criterion(y_pred, y)\n",
    "            optim.zero_grad()\n",
    "            loss.backward()\n",
    "            optim.step()\n",
    "            if (c + 1) % (50) == 0:\n",
    "                print(\"[iteration %04d] loss: %.4f  images seen: %d\" % (c + 1, loss.item(), c * batch_size))\n",
    "            \n",
    "        print('Epoch:', e + 1)\n",
    "            \n",
    "        \n",
    "train(m, device='cuda')"
   ]
  },
  {
   "cell_type": "code",
   "execution_count": 660,
   "metadata": {},
   "outputs": [],
   "source": [
    "m = Model(28* 28, 1024, 10, 'cpu')\n",
    "pyro.clear_param_store()\n",
    "\n",
    "def create_unit_priors(params):\n",
    "    return dist.Normal(loc=torch.zeros_like(params),\n",
    "                    scale=torch.ones_like(params))\n",
    "\n",
    "def create_guide_priors(name, params):\n",
    "    return dist.Normal(\n",
    "        loc=pyro.param(name + '_mu', torch.randn_like(params)),\n",
    "        scale=F.softplus(pyro.param(name + '_sigma', torch.randn_like(params)))\n",
    "    )\n",
    "\n",
    "\n",
    "class Model(nn.Module):\n",
    "    def __init__(self, input_size, hidden_size, output_size, device='cpu'):\n",
    "        super(Model, self).__init__()\n",
    "        self.output_size = output_size\n",
    "        self.input = nn.Linear(input_size, hidden_size)\n",
    "        self.out = nn.Linear(hidden_size, output_size)\n",
    "\n",
    "        if device == 'cuda':\n",
    "            self.cuda()\n",
    "    \n",
    "    def forward(self, x):\n",
    "        x = self.input(x)\n",
    "        x = self.out(F.relu(x))\n",
    "        return x.view(-1, self.output_size)\n",
    "    \n",
    "    # IMPORTANT LIFTED MODULE DOES NOT WORK WITH nn.Sequential. Need to name the priors perfectly\n",
    "    def model(self, x, y):\n",
    "        # priors\n",
    "        priors = {\n",
    "            \"input.weight\": create_unit_priors(self.input.weight),\n",
    "            \"input.bias\": create_unit_priors(self.input.bias),\n",
    "            \"out.weight\": create_unit_priors(self.out.weight),\n",
    "            \"out.bias\": create_unit_priors(self.out.bias),\n",
    "        }\n",
    "         # lift model parameters to random variables sampled from the priors\n",
    "        lifted_model = pyro.random_module('module', self, priors)\n",
    "\n",
    "        sampled_m = lifted_model().cuda()\n",
    "\n",
    "        lhat = F.log_softmax(sampled_m(x), -1)\n",
    "        pyro.sample('obs', dist.Categorical(logits=lhat), obs=y)\n",
    "    \n",
    "    def guide(self, x, y):\n",
    "        priors = {\n",
    "            \"input.weight\": create_guide_priors('layer_1_w', self.input.weight),\n",
    "            \"input.bias\": create_guide_priors('layer_1_b', self.input.bias),\n",
    "            \"out.weight\": create_guide_priors('layer_out_w', self.out.weight).independent(1), # why independent?\n",
    "            \"out.bias\": create_guide_priors('layer_out_b', self.out.bias)\n",
    "        }\n",
    "        lifted_model = pyro.random_module('module', self, priors)\n",
    "\n",
    "        return lifted_model().cuda()\n",
    "\n",
    "\n",
    "    \n",
    "m = Model(28* 28, 1024, 10, 'cuda')"
   ]
  },
  {
   "cell_type": "code",
   "execution_count": 661,
   "metadata": {},
   "outputs": [],
   "source": [
    "optim = pyro.optim.Adam({\"lr\": 0.01})\n",
    "svi = SVI(m.model, m.guide, optim, loss=Trace_ELBO())"
   ]
  },
  {
   "cell_type": "code",
   "execution_count": 662,
   "metadata": {},
   "outputs": [
    {
     "name": "stdout",
     "output_type": "stream",
     "text": [
      "[iteration 0050] loss: 575486.2806  images seen: 6272\n",
      "[iteration 0100] loss: 409706.6914  images seen: 12672\n",
      "[iteration 0150] loss: 308414.4917  images seen: 19072\n",
      "[iteration 0200] loss: 239504.4169  images seen: 25472\n",
      "[iteration 0250] loss: 192636.4854  images seen: 31872\n",
      "[iteration 0300] loss: 159737.6189  images seen: 38272\n",
      "[iteration 0350] loss: 134328.6484  images seen: 44672\n",
      "[iteration 0400] loss: 108068.3535  images seen: 51072\n",
      "[iteration 0450] loss: 92051.1239  images seen: 57472\n",
      "Epoch: 1\n",
      "[iteration 0050] loss: 75707.1368  images seen: 6272\n",
      "[iteration 0100] loss: 67434.5932  images seen: 12672\n",
      "[iteration 0150] loss: 56450.7644  images seen: 19072\n",
      "[iteration 0200] loss: 49828.3529  images seen: 25472\n",
      "[iteration 0250] loss: 42520.9192  images seen: 31872\n",
      "[iteration 0300] loss: 41784.5290  images seen: 38272\n",
      "[iteration 0350] loss: 37054.4357  images seen: 44672\n",
      "[iteration 0400] loss: 31497.1992  images seen: 51072\n",
      "[iteration 0450] loss: 29562.4878  images seen: 57472\n",
      "Epoch: 2\n",
      "[iteration 0050] loss: 24994.5042  images seen: 6272\n",
      "[iteration 0100] loss: 24671.7182  images seen: 12672\n",
      "[iteration 0150] loss: 22475.2998  images seen: 19072\n",
      "[iteration 0200] loss: 21354.1999  images seen: 25472\n",
      "[iteration 0250] loss: 20106.4219  images seen: 31872\n",
      "[iteration 0300] loss: 20475.1123  images seen: 38272\n",
      "[iteration 0350] loss: 17139.1713  images seen: 44672\n",
      "[iteration 0400] loss: 16839.1666  images seen: 51072\n",
      "[iteration 0450] loss: 19013.1081  images seen: 57472\n",
      "Epoch: 3\n",
      "[iteration 0050] loss: 15545.3955  images seen: 6272\n",
      "[iteration 0100] loss: 14237.7699  images seen: 12672\n",
      "[iteration 0150] loss: 15502.4942  images seen: 19072\n",
      "[iteration 0200] loss: 13264.4581  images seen: 25472\n",
      "[iteration 0250] loss: 14328.5137  images seen: 31872\n",
      "[iteration 0300] loss: 13658.2693  images seen: 38272\n",
      "[iteration 0350] loss: 14414.0143  images seen: 44672\n",
      "[iteration 0400] loss: 12868.3617  images seen: 51072\n",
      "[iteration 0450] loss: 13192.2938  images seen: 57472\n",
      "Epoch: 4\n",
      "[iteration 0050] loss: 12838.5207  images seen: 6272\n",
      "[iteration 0100] loss: 11779.6759  images seen: 12672\n",
      "[iteration 0150] loss: 12336.6770  images seen: 19072\n",
      "[iteration 0200] loss: 11720.4677  images seen: 25472\n",
      "[iteration 0250] loss: 12373.1238  images seen: 31872\n",
      "[iteration 0300] loss: 12094.8959  images seen: 38272\n",
      "[iteration 0350] loss: 12213.1922  images seen: 44672\n",
      "[iteration 0400] loss: 10980.8736  images seen: 51072\n",
      "[iteration 0450] loss: 11696.1344  images seen: 57472\n",
      "Epoch: 5\n"
     ]
    }
   ],
   "source": [
    "epochs = 5\n",
    "loss = 0\n",
    "\n",
    "for e in range(epochs):\n",
    "    c = 0\n",
    "    for x, y in train_loader:\n",
    "        c += 1\n",
    "        x = x.cuda()\n",
    "        y = y.cuda()\n",
    "        loss = svi.step(x, y)\n",
    "        if (c + 1) % (50) == 0:\n",
    "            print(\"[iteration %04d] loss: %.4f  images seen: %d\" % (c + 1, loss, c * batch_size))\n",
    "    print('Epoch:', e + 1)"
   ]
  },
  {
   "cell_type": "code",
   "execution_count": 695,
   "metadata": {},
   "outputs": [
    {
     "data": {
      "image/png": "[encoded data removed]",
      "text/plain": [
       "<Figure size 432x288 with 1 Axes>"
      ]
     },
     "metadata": {
      "needs_background": "light"
     },
     "output_type": "display_data"
    },
    {
     "data": {
      "text/plain": [
       "<matplotlib.axes._subplots.AxesSubplot at 0x7ff53b355dd8>"
      ]
     },
     "execution_count": 695,
     "metadata": {},
     "output_type": "execute_result"
    },
    {
     "data": {
      "image/png": "[encoded data removed]",
      "text/plain": [
       "<Figure size 432x288 with 1 Axes>"
      ]
     },
     "metadata": {
      "needs_background": "light"
     },
     "output_type": "display_data"
    }
   ],
   "source": [
    "for x, y in test_loader:\n",
    "    x = x.cuda()\n",
    "    y = y.cuda()\n",
    "    x = x[-1]\n",
    "\n",
    "    with torch.no_grad():\n",
    "        a = np.array([F.softmax(m.guide(1, 1)(x), -1).cpu().numpy() for _ in range(100)])[:, -1]\n",
    "        \n",
    "    break\n",
    "    \n",
    "plt.imshow(x.cpu().numpy().reshape((28, 28)))\n",
    "plt.show()\n",
    "sns.barplot(np.arange(10), a.sum(0))"
   ]
  }
 ],
 "metadata": {
  "kernelspec": {
   "display_name": "Python 3",
   "language": "python",
   "name": "python3"
  },
  "language_info": {
   "codemirror_mode": {
    "name": "ipython",
    "version": 3
   },
   "file_extension": ".py",
   "mimetype": "text/x-python",
   "name": "python",
   "nbconvert_exporter": "python",
   "pygments_lexer": "ipython3",
   "version": "3.7.3"
  }
 },
 "nbformat": 4,
 "nbformat_minor": 2
}
